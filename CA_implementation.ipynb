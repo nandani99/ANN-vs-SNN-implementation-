{
  "nbformat": 4,
  "nbformat_minor": 0,
  "metadata": {
    "colab": {
      "name": "CA_implementation.ipynb",
      "provenance": [],
      "collapsed_sections": []
    },
    "kernelspec": {
      "name": "python3",
      "display_name": "Python 3"
    },
    "language_info": {
      "name": "python"
    },
    "widgets": {
      "application/vnd.jupyter.widget-state+json": {
        "e6bf1ac898ce43519e332bf024bc9587": {
          "model_module": "@jupyter-widgets/controls",
          "model_name": "HBoxModel",
          "model_module_version": "1.5.0",
          "state": {
            "_view_name": "HBoxView",
            "_dom_classes": [],
            "_model_name": "HBoxModel",
            "_view_module": "@jupyter-widgets/controls",
            "_model_module_version": "1.5.0",
            "_view_count": null,
            "_view_module_version": "1.5.0",
            "box_style": "",
            "layout": "IPY_MODEL_de351e16b7d0458fb8adcffc6b6064b3",
            "_model_module": "@jupyter-widgets/controls",
            "children": [
              "IPY_MODEL_c3f01ba59adb4602a286f62d16ce86be",
              "IPY_MODEL_a7990ef31216414f84b05e0c0337bc86",
              "IPY_MODEL_80aa6ff17df248ce887bec657d29d9af"
            ]
          }
        },
        "de351e16b7d0458fb8adcffc6b6064b3": {
          "model_module": "@jupyter-widgets/base",
          "model_name": "LayoutModel",
          "model_module_version": "1.2.0",
          "state": {
            "_view_name": "LayoutView",
            "grid_template_rows": null,
            "right": null,
            "justify_content": null,
            "_view_module": "@jupyter-widgets/base",
            "overflow": null,
            "_model_module_version": "1.2.0",
            "_view_count": null,
            "flex_flow": null,
            "width": null,
            "min_width": null,
            "border": null,
            "align_items": null,
            "bottom": null,
            "_model_module": "@jupyter-widgets/base",
            "top": null,
            "grid_column": null,
            "overflow_y": null,
            "overflow_x": null,
            "grid_auto_flow": null,
            "grid_area": null,
            "grid_template_columns": null,
            "flex": null,
            "_model_name": "LayoutModel",
            "justify_items": null,
            "grid_row": null,
            "max_height": null,
            "align_content": null,
            "visibility": null,
            "align_self": null,
            "height": null,
            "min_height": null,
            "padding": null,
            "grid_auto_rows": null,
            "grid_gap": null,
            "max_width": null,
            "order": null,
            "_view_module_version": "1.2.0",
            "grid_template_areas": null,
            "object_position": null,
            "object_fit": null,
            "grid_auto_columns": null,
            "margin": null,
            "display": null,
            "left": null
          }
        },
        "c3f01ba59adb4602a286f62d16ce86be": {
          "model_module": "@jupyter-widgets/controls",
          "model_name": "HTMLModel",
          "model_module_version": "1.5.0",
          "state": {
            "_view_name": "HTMLView",
            "style": "IPY_MODEL_6a93a3b424764a21a4b8dd6de6636afb",
            "_dom_classes": [],
            "description": "",
            "_model_name": "HTMLModel",
            "placeholder": "​",
            "_view_module": "@jupyter-widgets/controls",
            "_model_module_version": "1.5.0",
            "value": "",
            "_view_count": null,
            "_view_module_version": "1.5.0",
            "description_tooltip": null,
            "_model_module": "@jupyter-widgets/controls",
            "layout": "IPY_MODEL_163ebb022f744c8b94823a9f686db8a8"
          }
        },
        "a7990ef31216414f84b05e0c0337bc86": {
          "model_module": "@jupyter-widgets/controls",
          "model_name": "FloatProgressModel",
          "model_module_version": "1.5.0",
          "state": {
            "_view_name": "ProgressView",
            "style": "IPY_MODEL_9786f5cb98c14cb4a1491dd6be2fffc7",
            "_dom_classes": [],
            "description": "",
            "_model_name": "FloatProgressModel",
            "bar_style": "success",
            "max": 9912422,
            "_view_module": "@jupyter-widgets/controls",
            "_model_module_version": "1.5.0",
            "value": 9912422,
            "_view_count": null,
            "_view_module_version": "1.5.0",
            "orientation": "horizontal",
            "min": 0,
            "description_tooltip": null,
            "_model_module": "@jupyter-widgets/controls",
            "layout": "IPY_MODEL_5b58d4babb8345ef9048be461cb1e3f3"
          }
        },
        "80aa6ff17df248ce887bec657d29d9af": {
          "model_module": "@jupyter-widgets/controls",
          "model_name": "HTMLModel",
          "model_module_version": "1.5.0",
          "state": {
            "_view_name": "HTMLView",
            "style": "IPY_MODEL_26b36b7682e74c8191857170dd5d2256",
            "_dom_classes": [],
            "description": "",
            "_model_name": "HTMLModel",
            "placeholder": "​",
            "_view_module": "@jupyter-widgets/controls",
            "_model_module_version": "1.5.0",
            "value": " 9913344/? [00:00&lt;00:00, 18421162.70it/s]",
            "_view_count": null,
            "_view_module_version": "1.5.0",
            "description_tooltip": null,
            "_model_module": "@jupyter-widgets/controls",
            "layout": "IPY_MODEL_5602ffd162e049739beea7957983235c"
          }
        },
        "6a93a3b424764a21a4b8dd6de6636afb": {
          "model_module": "@jupyter-widgets/controls",
          "model_name": "DescriptionStyleModel",
          "model_module_version": "1.5.0",
          "state": {
            "_view_name": "StyleView",
            "_model_name": "DescriptionStyleModel",
            "description_width": "",
            "_view_module": "@jupyter-widgets/base",
            "_model_module_version": "1.5.0",
            "_view_count": null,
            "_view_module_version": "1.2.0",
            "_model_module": "@jupyter-widgets/controls"
          }
        },
        "163ebb022f744c8b94823a9f686db8a8": {
          "model_module": "@jupyter-widgets/base",
          "model_name": "LayoutModel",
          "model_module_version": "1.2.0",
          "state": {
            "_view_name": "LayoutView",
            "grid_template_rows": null,
            "right": null,
            "justify_content": null,
            "_view_module": "@jupyter-widgets/base",
            "overflow": null,
            "_model_module_version": "1.2.0",
            "_view_count": null,
            "flex_flow": null,
            "width": null,
            "min_width": null,
            "border": null,
            "align_items": null,
            "bottom": null,
            "_model_module": "@jupyter-widgets/base",
            "top": null,
            "grid_column": null,
            "overflow_y": null,
            "overflow_x": null,
            "grid_auto_flow": null,
            "grid_area": null,
            "grid_template_columns": null,
            "flex": null,
            "_model_name": "LayoutModel",
            "justify_items": null,
            "grid_row": null,
            "max_height": null,
            "align_content": null,
            "visibility": null,
            "align_self": null,
            "height": null,
            "min_height": null,
            "padding": null,
            "grid_auto_rows": null,
            "grid_gap": null,
            "max_width": null,
            "order": null,
            "_view_module_version": "1.2.0",
            "grid_template_areas": null,
            "object_position": null,
            "object_fit": null,
            "grid_auto_columns": null,
            "margin": null,
            "display": null,
            "left": null
          }
        },
        "9786f5cb98c14cb4a1491dd6be2fffc7": {
          "model_module": "@jupyter-widgets/controls",
          "model_name": "ProgressStyleModel",
          "model_module_version": "1.5.0",
          "state": {
            "_view_name": "StyleView",
            "_model_name": "ProgressStyleModel",
            "description_width": "",
            "_view_module": "@jupyter-widgets/base",
            "_model_module_version": "1.5.0",
            "_view_count": null,
            "_view_module_version": "1.2.0",
            "bar_color": null,
            "_model_module": "@jupyter-widgets/controls"
          }
        },
        "5b58d4babb8345ef9048be461cb1e3f3": {
          "model_module": "@jupyter-widgets/base",
          "model_name": "LayoutModel",
          "model_module_version": "1.2.0",
          "state": {
            "_view_name": "LayoutView",
            "grid_template_rows": null,
            "right": null,
            "justify_content": null,
            "_view_module": "@jupyter-widgets/base",
            "overflow": null,
            "_model_module_version": "1.2.0",
            "_view_count": null,
            "flex_flow": null,
            "width": null,
            "min_width": null,
            "border": null,
            "align_items": null,
            "bottom": null,
            "_model_module": "@jupyter-widgets/base",
            "top": null,
            "grid_column": null,
            "overflow_y": null,
            "overflow_x": null,
            "grid_auto_flow": null,
            "grid_area": null,
            "grid_template_columns": null,
            "flex": null,
            "_model_name": "LayoutModel",
            "justify_items": null,
            "grid_row": null,
            "max_height": null,
            "align_content": null,
            "visibility": null,
            "align_self": null,
            "height": null,
            "min_height": null,
            "padding": null,
            "grid_auto_rows": null,
            "grid_gap": null,
            "max_width": null,
            "order": null,
            "_view_module_version": "1.2.0",
            "grid_template_areas": null,
            "object_position": null,
            "object_fit": null,
            "grid_auto_columns": null,
            "margin": null,
            "display": null,
            "left": null
          }
        },
        "26b36b7682e74c8191857170dd5d2256": {
          "model_module": "@jupyter-widgets/controls",
          "model_name": "DescriptionStyleModel",
          "model_module_version": "1.5.0",
          "state": {
            "_view_name": "StyleView",
            "_model_name": "DescriptionStyleModel",
            "description_width": "",
            "_view_module": "@jupyter-widgets/base",
            "_model_module_version": "1.5.0",
            "_view_count": null,
            "_view_module_version": "1.2.0",
            "_model_module": "@jupyter-widgets/controls"
          }
        },
        "5602ffd162e049739beea7957983235c": {
          "model_module": "@jupyter-widgets/base",
          "model_name": "LayoutModel",
          "model_module_version": "1.2.0",
          "state": {
            "_view_name": "LayoutView",
            "grid_template_rows": null,
            "right": null,
            "justify_content": null,
            "_view_module": "@jupyter-widgets/base",
            "overflow": null,
            "_model_module_version": "1.2.0",
            "_view_count": null,
            "flex_flow": null,
            "width": null,
            "min_width": null,
            "border": null,
            "align_items": null,
            "bottom": null,
            "_model_module": "@jupyter-widgets/base",
            "top": null,
            "grid_column": null,
            "overflow_y": null,
            "overflow_x": null,
            "grid_auto_flow": null,
            "grid_area": null,
            "grid_template_columns": null,
            "flex": null,
            "_model_name": "LayoutModel",
            "justify_items": null,
            "grid_row": null,
            "max_height": null,
            "align_content": null,
            "visibility": null,
            "align_self": null,
            "height": null,
            "min_height": null,
            "padding": null,
            "grid_auto_rows": null,
            "grid_gap": null,
            "max_width": null,
            "order": null,
            "_view_module_version": "1.2.0",
            "grid_template_areas": null,
            "object_position": null,
            "object_fit": null,
            "grid_auto_columns": null,
            "margin": null,
            "display": null,
            "left": null
          }
        },
        "28827627f63141d080bdf50c3e1178b0": {
          "model_module": "@jupyter-widgets/controls",
          "model_name": "HBoxModel",
          "model_module_version": "1.5.0",
          "state": {
            "_view_name": "HBoxView",
            "_dom_classes": [],
            "_model_name": "HBoxModel",
            "_view_module": "@jupyter-widgets/controls",
            "_model_module_version": "1.5.0",
            "_view_count": null,
            "_view_module_version": "1.5.0",
            "box_style": "",
            "layout": "IPY_MODEL_dd17af0c62d844d588c758a4013033a4",
            "_model_module": "@jupyter-widgets/controls",
            "children": [
              "IPY_MODEL_31b5b759815e4495a9150556ce84c666",
              "IPY_MODEL_44291f2c67ac4f3691977e9ed39c513c",
              "IPY_MODEL_5fde8c26805b4f76b935d76e192fa429"
            ]
          }
        },
        "dd17af0c62d844d588c758a4013033a4": {
          "model_module": "@jupyter-widgets/base",
          "model_name": "LayoutModel",
          "model_module_version": "1.2.0",
          "state": {
            "_view_name": "LayoutView",
            "grid_template_rows": null,
            "right": null,
            "justify_content": null,
            "_view_module": "@jupyter-widgets/base",
            "overflow": null,
            "_model_module_version": "1.2.0",
            "_view_count": null,
            "flex_flow": null,
            "width": null,
            "min_width": null,
            "border": null,
            "align_items": null,
            "bottom": null,
            "_model_module": "@jupyter-widgets/base",
            "top": null,
            "grid_column": null,
            "overflow_y": null,
            "overflow_x": null,
            "grid_auto_flow": null,
            "grid_area": null,
            "grid_template_columns": null,
            "flex": null,
            "_model_name": "LayoutModel",
            "justify_items": null,
            "grid_row": null,
            "max_height": null,
            "align_content": null,
            "visibility": null,
            "align_self": null,
            "height": null,
            "min_height": null,
            "padding": null,
            "grid_auto_rows": null,
            "grid_gap": null,
            "max_width": null,
            "order": null,
            "_view_module_version": "1.2.0",
            "grid_template_areas": null,
            "object_position": null,
            "object_fit": null,
            "grid_auto_columns": null,
            "margin": null,
            "display": null,
            "left": null
          }
        },
        "31b5b759815e4495a9150556ce84c666": {
          "model_module": "@jupyter-widgets/controls",
          "model_name": "HTMLModel",
          "model_module_version": "1.5.0",
          "state": {
            "_view_name": "HTMLView",
            "style": "IPY_MODEL_d7aa43a5af9b4aff9c5361a3cbf85399",
            "_dom_classes": [],
            "description": "",
            "_model_name": "HTMLModel",
            "placeholder": "​",
            "_view_module": "@jupyter-widgets/controls",
            "_model_module_version": "1.5.0",
            "value": "",
            "_view_count": null,
            "_view_module_version": "1.5.0",
            "description_tooltip": null,
            "_model_module": "@jupyter-widgets/controls",
            "layout": "IPY_MODEL_09784f71d19f4c1b833e88560c4f7796"
          }
        },
        "44291f2c67ac4f3691977e9ed39c513c": {
          "model_module": "@jupyter-widgets/controls",
          "model_name": "FloatProgressModel",
          "model_module_version": "1.5.0",
          "state": {
            "_view_name": "ProgressView",
            "style": "IPY_MODEL_a7b06856eb00477188d9d1ec8ee11af4",
            "_dom_classes": [],
            "description": "",
            "_model_name": "FloatProgressModel",
            "bar_style": "success",
            "max": 28881,
            "_view_module": "@jupyter-widgets/controls",
            "_model_module_version": "1.5.0",
            "value": 28881,
            "_view_count": null,
            "_view_module_version": "1.5.0",
            "orientation": "horizontal",
            "min": 0,
            "description_tooltip": null,
            "_model_module": "@jupyter-widgets/controls",
            "layout": "IPY_MODEL_720d16f0c800467e9c3c0eae83f0fe21"
          }
        },
        "5fde8c26805b4f76b935d76e192fa429": {
          "model_module": "@jupyter-widgets/controls",
          "model_name": "HTMLModel",
          "model_module_version": "1.5.0",
          "state": {
            "_view_name": "HTMLView",
            "style": "IPY_MODEL_7a9ae45b781a42c1bc7adb53f36bc2bc",
            "_dom_classes": [],
            "description": "",
            "_model_name": "HTMLModel",
            "placeholder": "​",
            "_view_module": "@jupyter-widgets/controls",
            "_model_module_version": "1.5.0",
            "value": " 29696/? [00:00&lt;00:00, 836651.97it/s]",
            "_view_count": null,
            "_view_module_version": "1.5.0",
            "description_tooltip": null,
            "_model_module": "@jupyter-widgets/controls",
            "layout": "IPY_MODEL_9a7086a599bb453996381651bc6e13ce"
          }
        },
        "d7aa43a5af9b4aff9c5361a3cbf85399": {
          "model_module": "@jupyter-widgets/controls",
          "model_name": "DescriptionStyleModel",
          "model_module_version": "1.5.0",
          "state": {
            "_view_name": "StyleView",
            "_model_name": "DescriptionStyleModel",
            "description_width": "",
            "_view_module": "@jupyter-widgets/base",
            "_model_module_version": "1.5.0",
            "_view_count": null,
            "_view_module_version": "1.2.0",
            "_model_module": "@jupyter-widgets/controls"
          }
        },
        "09784f71d19f4c1b833e88560c4f7796": {
          "model_module": "@jupyter-widgets/base",
          "model_name": "LayoutModel",
          "model_module_version": "1.2.0",
          "state": {
            "_view_name": "LayoutView",
            "grid_template_rows": null,
            "right": null,
            "justify_content": null,
            "_view_module": "@jupyter-widgets/base",
            "overflow": null,
            "_model_module_version": "1.2.0",
            "_view_count": null,
            "flex_flow": null,
            "width": null,
            "min_width": null,
            "border": null,
            "align_items": null,
            "bottom": null,
            "_model_module": "@jupyter-widgets/base",
            "top": null,
            "grid_column": null,
            "overflow_y": null,
            "overflow_x": null,
            "grid_auto_flow": null,
            "grid_area": null,
            "grid_template_columns": null,
            "flex": null,
            "_model_name": "LayoutModel",
            "justify_items": null,
            "grid_row": null,
            "max_height": null,
            "align_content": null,
            "visibility": null,
            "align_self": null,
            "height": null,
            "min_height": null,
            "padding": null,
            "grid_auto_rows": null,
            "grid_gap": null,
            "max_width": null,
            "order": null,
            "_view_module_version": "1.2.0",
            "grid_template_areas": null,
            "object_position": null,
            "object_fit": null,
            "grid_auto_columns": null,
            "margin": null,
            "display": null,
            "left": null
          }
        },
        "a7b06856eb00477188d9d1ec8ee11af4": {
          "model_module": "@jupyter-widgets/controls",
          "model_name": "ProgressStyleModel",
          "model_module_version": "1.5.0",
          "state": {
            "_view_name": "StyleView",
            "_model_name": "ProgressStyleModel",
            "description_width": "",
            "_view_module": "@jupyter-widgets/base",
            "_model_module_version": "1.5.0",
            "_view_count": null,
            "_view_module_version": "1.2.0",
            "bar_color": null,
            "_model_module": "@jupyter-widgets/controls"
          }
        },
        "720d16f0c800467e9c3c0eae83f0fe21": {
          "model_module": "@jupyter-widgets/base",
          "model_name": "LayoutModel",
          "model_module_version": "1.2.0",
          "state": {
            "_view_name": "LayoutView",
            "grid_template_rows": null,
            "right": null,
            "justify_content": null,
            "_view_module": "@jupyter-widgets/base",
            "overflow": null,
            "_model_module_version": "1.2.0",
            "_view_count": null,
            "flex_flow": null,
            "width": null,
            "min_width": null,
            "border": null,
            "align_items": null,
            "bottom": null,
            "_model_module": "@jupyter-widgets/base",
            "top": null,
            "grid_column": null,
            "overflow_y": null,
            "overflow_x": null,
            "grid_auto_flow": null,
            "grid_area": null,
            "grid_template_columns": null,
            "flex": null,
            "_model_name": "LayoutModel",
            "justify_items": null,
            "grid_row": null,
            "max_height": null,
            "align_content": null,
            "visibility": null,
            "align_self": null,
            "height": null,
            "min_height": null,
            "padding": null,
            "grid_auto_rows": null,
            "grid_gap": null,
            "max_width": null,
            "order": null,
            "_view_module_version": "1.2.0",
            "grid_template_areas": null,
            "object_position": null,
            "object_fit": null,
            "grid_auto_columns": null,
            "margin": null,
            "display": null,
            "left": null
          }
        },
        "7a9ae45b781a42c1bc7adb53f36bc2bc": {
          "model_module": "@jupyter-widgets/controls",
          "model_name": "DescriptionStyleModel",
          "model_module_version": "1.5.0",
          "state": {
            "_view_name": "StyleView",
            "_model_name": "DescriptionStyleModel",
            "description_width": "",
            "_view_module": "@jupyter-widgets/base",
            "_model_module_version": "1.5.0",
            "_view_count": null,
            "_view_module_version": "1.2.0",
            "_model_module": "@jupyter-widgets/controls"
          }
        },
        "9a7086a599bb453996381651bc6e13ce": {
          "model_module": "@jupyter-widgets/base",
          "model_name": "LayoutModel",
          "model_module_version": "1.2.0",
          "state": {
            "_view_name": "LayoutView",
            "grid_template_rows": null,
            "right": null,
            "justify_content": null,
            "_view_module": "@jupyter-widgets/base",
            "overflow": null,
            "_model_module_version": "1.2.0",
            "_view_count": null,
            "flex_flow": null,
            "width": null,
            "min_width": null,
            "border": null,
            "align_items": null,
            "bottom": null,
            "_model_module": "@jupyter-widgets/base",
            "top": null,
            "grid_column": null,
            "overflow_y": null,
            "overflow_x": null,
            "grid_auto_flow": null,
            "grid_area": null,
            "grid_template_columns": null,
            "flex": null,
            "_model_name": "LayoutModel",
            "justify_items": null,
            "grid_row": null,
            "max_height": null,
            "align_content": null,
            "visibility": null,
            "align_self": null,
            "height": null,
            "min_height": null,
            "padding": null,
            "grid_auto_rows": null,
            "grid_gap": null,
            "max_width": null,
            "order": null,
            "_view_module_version": "1.2.0",
            "grid_template_areas": null,
            "object_position": null,
            "object_fit": null,
            "grid_auto_columns": null,
            "margin": null,
            "display": null,
            "left": null
          }
        },
        "71b69bf8e2524755bc83b50d66ed8121": {
          "model_module": "@jupyter-widgets/controls",
          "model_name": "HBoxModel",
          "model_module_version": "1.5.0",
          "state": {
            "_view_name": "HBoxView",
            "_dom_classes": [],
            "_model_name": "HBoxModel",
            "_view_module": "@jupyter-widgets/controls",
            "_model_module_version": "1.5.0",
            "_view_count": null,
            "_view_module_version": "1.5.0",
            "box_style": "",
            "layout": "IPY_MODEL_5c0de2c5b2b84f17ae07e3c9532e088c",
            "_model_module": "@jupyter-widgets/controls",
            "children": [
              "IPY_MODEL_5e285082fa544246906c34faeb8d6605",
              "IPY_MODEL_8506121e655244f3975faed9166534bf",
              "IPY_MODEL_fc1f4948083540b4a27950122f12355a"
            ]
          }
        },
        "5c0de2c5b2b84f17ae07e3c9532e088c": {
          "model_module": "@jupyter-widgets/base",
          "model_name": "LayoutModel",
          "model_module_version": "1.2.0",
          "state": {
            "_view_name": "LayoutView",
            "grid_template_rows": null,
            "right": null,
            "justify_content": null,
            "_view_module": "@jupyter-widgets/base",
            "overflow": null,
            "_model_module_version": "1.2.0",
            "_view_count": null,
            "flex_flow": null,
            "width": null,
            "min_width": null,
            "border": null,
            "align_items": null,
            "bottom": null,
            "_model_module": "@jupyter-widgets/base",
            "top": null,
            "grid_column": null,
            "overflow_y": null,
            "overflow_x": null,
            "grid_auto_flow": null,
            "grid_area": null,
            "grid_template_columns": null,
            "flex": null,
            "_model_name": "LayoutModel",
            "justify_items": null,
            "grid_row": null,
            "max_height": null,
            "align_content": null,
            "visibility": null,
            "align_self": null,
            "height": null,
            "min_height": null,
            "padding": null,
            "grid_auto_rows": null,
            "grid_gap": null,
            "max_width": null,
            "order": null,
            "_view_module_version": "1.2.0",
            "grid_template_areas": null,
            "object_position": null,
            "object_fit": null,
            "grid_auto_columns": null,
            "margin": null,
            "display": null,
            "left": null
          }
        },
        "5e285082fa544246906c34faeb8d6605": {
          "model_module": "@jupyter-widgets/controls",
          "model_name": "HTMLModel",
          "model_module_version": "1.5.0",
          "state": {
            "_view_name": "HTMLView",
            "style": "IPY_MODEL_c0c62a64e17c432cb89bca34502ff449",
            "_dom_classes": [],
            "description": "",
            "_model_name": "HTMLModel",
            "placeholder": "​",
            "_view_module": "@jupyter-widgets/controls",
            "_model_module_version": "1.5.0",
            "value": "",
            "_view_count": null,
            "_view_module_version": "1.5.0",
            "description_tooltip": null,
            "_model_module": "@jupyter-widgets/controls",
            "layout": "IPY_MODEL_f53de56f495a40ffba01f9db3f263fce"
          }
        },
        "8506121e655244f3975faed9166534bf": {
          "model_module": "@jupyter-widgets/controls",
          "model_name": "FloatProgressModel",
          "model_module_version": "1.5.0",
          "state": {
            "_view_name": "ProgressView",
            "style": "IPY_MODEL_e87b4f9997214206bd3870bcb913404b",
            "_dom_classes": [],
            "description": "",
            "_model_name": "FloatProgressModel",
            "bar_style": "success",
            "max": 1648877,
            "_view_module": "@jupyter-widgets/controls",
            "_model_module_version": "1.5.0",
            "value": 1648877,
            "_view_count": null,
            "_view_module_version": "1.5.0",
            "orientation": "horizontal",
            "min": 0,
            "description_tooltip": null,
            "_model_module": "@jupyter-widgets/controls",
            "layout": "IPY_MODEL_164b0aad6fae4b798b9794948ceede32"
          }
        },
        "fc1f4948083540b4a27950122f12355a": {
          "model_module": "@jupyter-widgets/controls",
          "model_name": "HTMLModel",
          "model_module_version": "1.5.0",
          "state": {
            "_view_name": "HTMLView",
            "style": "IPY_MODEL_4251d5000b8c49f7978e09820e442a3a",
            "_dom_classes": [],
            "description": "",
            "_model_name": "HTMLModel",
            "placeholder": "​",
            "_view_module": "@jupyter-widgets/controls",
            "_model_module_version": "1.5.0",
            "value": " 1649664/? [00:00&lt;00:00, 17070726.73it/s]",
            "_view_count": null,
            "_view_module_version": "1.5.0",
            "description_tooltip": null,
            "_model_module": "@jupyter-widgets/controls",
            "layout": "IPY_MODEL_1a2a7a2a55bb452db245e1d349bcae5f"
          }
        },
        "c0c62a64e17c432cb89bca34502ff449": {
          "model_module": "@jupyter-widgets/controls",
          "model_name": "DescriptionStyleModel",
          "model_module_version": "1.5.0",
          "state": {
            "_view_name": "StyleView",
            "_model_name": "DescriptionStyleModel",
            "description_width": "",
            "_view_module": "@jupyter-widgets/base",
            "_model_module_version": "1.5.0",
            "_view_count": null,
            "_view_module_version": "1.2.0",
            "_model_module": "@jupyter-widgets/controls"
          }
        },
        "f53de56f495a40ffba01f9db3f263fce": {
          "model_module": "@jupyter-widgets/base",
          "model_name": "LayoutModel",
          "model_module_version": "1.2.0",
          "state": {
            "_view_name": "LayoutView",
            "grid_template_rows": null,
            "right": null,
            "justify_content": null,
            "_view_module": "@jupyter-widgets/base",
            "overflow": null,
            "_model_module_version": "1.2.0",
            "_view_count": null,
            "flex_flow": null,
            "width": null,
            "min_width": null,
            "border": null,
            "align_items": null,
            "bottom": null,
            "_model_module": "@jupyter-widgets/base",
            "top": null,
            "grid_column": null,
            "overflow_y": null,
            "overflow_x": null,
            "grid_auto_flow": null,
            "grid_area": null,
            "grid_template_columns": null,
            "flex": null,
            "_model_name": "LayoutModel",
            "justify_items": null,
            "grid_row": null,
            "max_height": null,
            "align_content": null,
            "visibility": null,
            "align_self": null,
            "height": null,
            "min_height": null,
            "padding": null,
            "grid_auto_rows": null,
            "grid_gap": null,
            "max_width": null,
            "order": null,
            "_view_module_version": "1.2.0",
            "grid_template_areas": null,
            "object_position": null,
            "object_fit": null,
            "grid_auto_columns": null,
            "margin": null,
            "display": null,
            "left": null
          }
        },
        "e87b4f9997214206bd3870bcb913404b": {
          "model_module": "@jupyter-widgets/controls",
          "model_name": "ProgressStyleModel",
          "model_module_version": "1.5.0",
          "state": {
            "_view_name": "StyleView",
            "_model_name": "ProgressStyleModel",
            "description_width": "",
            "_view_module": "@jupyter-widgets/base",
            "_model_module_version": "1.5.0",
            "_view_count": null,
            "_view_module_version": "1.2.0",
            "bar_color": null,
            "_model_module": "@jupyter-widgets/controls"
          }
        },
        "164b0aad6fae4b798b9794948ceede32": {
          "model_module": "@jupyter-widgets/base",
          "model_name": "LayoutModel",
          "model_module_version": "1.2.0",
          "state": {
            "_view_name": "LayoutView",
            "grid_template_rows": null,
            "right": null,
            "justify_content": null,
            "_view_module": "@jupyter-widgets/base",
            "overflow": null,
            "_model_module_version": "1.2.0",
            "_view_count": null,
            "flex_flow": null,
            "width": null,
            "min_width": null,
            "border": null,
            "align_items": null,
            "bottom": null,
            "_model_module": "@jupyter-widgets/base",
            "top": null,
            "grid_column": null,
            "overflow_y": null,
            "overflow_x": null,
            "grid_auto_flow": null,
            "grid_area": null,
            "grid_template_columns": null,
            "flex": null,
            "_model_name": "LayoutModel",
            "justify_items": null,
            "grid_row": null,
            "max_height": null,
            "align_content": null,
            "visibility": null,
            "align_self": null,
            "height": null,
            "min_height": null,
            "padding": null,
            "grid_auto_rows": null,
            "grid_gap": null,
            "max_width": null,
            "order": null,
            "_view_module_version": "1.2.0",
            "grid_template_areas": null,
            "object_position": null,
            "object_fit": null,
            "grid_auto_columns": null,
            "margin": null,
            "display": null,
            "left": null
          }
        },
        "4251d5000b8c49f7978e09820e442a3a": {
          "model_module": "@jupyter-widgets/controls",
          "model_name": "DescriptionStyleModel",
          "model_module_version": "1.5.0",
          "state": {
            "_view_name": "StyleView",
            "_model_name": "DescriptionStyleModel",
            "description_width": "",
            "_view_module": "@jupyter-widgets/base",
            "_model_module_version": "1.5.0",
            "_view_count": null,
            "_view_module_version": "1.2.0",
            "_model_module": "@jupyter-widgets/controls"
          }
        },
        "1a2a7a2a55bb452db245e1d349bcae5f": {
          "model_module": "@jupyter-widgets/base",
          "model_name": "LayoutModel",
          "model_module_version": "1.2.0",
          "state": {
            "_view_name": "LayoutView",
            "grid_template_rows": null,
            "right": null,
            "justify_content": null,
            "_view_module": "@jupyter-widgets/base",
            "overflow": null,
            "_model_module_version": "1.2.0",
            "_view_count": null,
            "flex_flow": null,
            "width": null,
            "min_width": null,
            "border": null,
            "align_items": null,
            "bottom": null,
            "_model_module": "@jupyter-widgets/base",
            "top": null,
            "grid_column": null,
            "overflow_y": null,
            "overflow_x": null,
            "grid_auto_flow": null,
            "grid_area": null,
            "grid_template_columns": null,
            "flex": null,
            "_model_name": "LayoutModel",
            "justify_items": null,
            "grid_row": null,
            "max_height": null,
            "align_content": null,
            "visibility": null,
            "align_self": null,
            "height": null,
            "min_height": null,
            "padding": null,
            "grid_auto_rows": null,
            "grid_gap": null,
            "max_width": null,
            "order": null,
            "_view_module_version": "1.2.0",
            "grid_template_areas": null,
            "object_position": null,
            "object_fit": null,
            "grid_auto_columns": null,
            "margin": null,
            "display": null,
            "left": null
          }
        },
        "39224ff3dd7d41e8af797f70ea1bf5c4": {
          "model_module": "@jupyter-widgets/controls",
          "model_name": "HBoxModel",
          "model_module_version": "1.5.0",
          "state": {
            "_view_name": "HBoxView",
            "_dom_classes": [],
            "_model_name": "HBoxModel",
            "_view_module": "@jupyter-widgets/controls",
            "_model_module_version": "1.5.0",
            "_view_count": null,
            "_view_module_version": "1.5.0",
            "box_style": "",
            "layout": "IPY_MODEL_5c763bb33a424250beb9ec001cc699e7",
            "_model_module": "@jupyter-widgets/controls",
            "children": [
              "IPY_MODEL_a52a978d9f154d3786695dee460701b8",
              "IPY_MODEL_7196aa2d49044cb5bce3233e98ffb5a3",
              "IPY_MODEL_8285f6b104f449668bc611bf2234a62c"
            ]
          }
        },
        "5c763bb33a424250beb9ec001cc699e7": {
          "model_module": "@jupyter-widgets/base",
          "model_name": "LayoutModel",
          "model_module_version": "1.2.0",
          "state": {
            "_view_name": "LayoutView",
            "grid_template_rows": null,
            "right": null,
            "justify_content": null,
            "_view_module": "@jupyter-widgets/base",
            "overflow": null,
            "_model_module_version": "1.2.0",
            "_view_count": null,
            "flex_flow": null,
            "width": null,
            "min_width": null,
            "border": null,
            "align_items": null,
            "bottom": null,
            "_model_module": "@jupyter-widgets/base",
            "top": null,
            "grid_column": null,
            "overflow_y": null,
            "overflow_x": null,
            "grid_auto_flow": null,
            "grid_area": null,
            "grid_template_columns": null,
            "flex": null,
            "_model_name": "LayoutModel",
            "justify_items": null,
            "grid_row": null,
            "max_height": null,
            "align_content": null,
            "visibility": null,
            "align_self": null,
            "height": null,
            "min_height": null,
            "padding": null,
            "grid_auto_rows": null,
            "grid_gap": null,
            "max_width": null,
            "order": null,
            "_view_module_version": "1.2.0",
            "grid_template_areas": null,
            "object_position": null,
            "object_fit": null,
            "grid_auto_columns": null,
            "margin": null,
            "display": null,
            "left": null
          }
        },
        "a52a978d9f154d3786695dee460701b8": {
          "model_module": "@jupyter-widgets/controls",
          "model_name": "HTMLModel",
          "model_module_version": "1.5.0",
          "state": {
            "_view_name": "HTMLView",
            "style": "IPY_MODEL_8651824aed6248bb9830ea21c1b5fd5b",
            "_dom_classes": [],
            "description": "",
            "_model_name": "HTMLModel",
            "placeholder": "​",
            "_view_module": "@jupyter-widgets/controls",
            "_model_module_version": "1.5.0",
            "value": "",
            "_view_count": null,
            "_view_module_version": "1.5.0",
            "description_tooltip": null,
            "_model_module": "@jupyter-widgets/controls",
            "layout": "IPY_MODEL_5732c6fd0f5448b585e9d2bfa930da86"
          }
        },
        "7196aa2d49044cb5bce3233e98ffb5a3": {
          "model_module": "@jupyter-widgets/controls",
          "model_name": "FloatProgressModel",
          "model_module_version": "1.5.0",
          "state": {
            "_view_name": "ProgressView",
            "style": "IPY_MODEL_0d983cc3996049d7b1a251004e6efed3",
            "_dom_classes": [],
            "description": "",
            "_model_name": "FloatProgressModel",
            "bar_style": "success",
            "max": 4542,
            "_view_module": "@jupyter-widgets/controls",
            "_model_module_version": "1.5.0",
            "value": 4542,
            "_view_count": null,
            "_view_module_version": "1.5.0",
            "orientation": "horizontal",
            "min": 0,
            "description_tooltip": null,
            "_model_module": "@jupyter-widgets/controls",
            "layout": "IPY_MODEL_a19e3b5ef8c04f9c81170543ed5a04e1"
          }
        },
        "8285f6b104f449668bc611bf2234a62c": {
          "model_module": "@jupyter-widgets/controls",
          "model_name": "HTMLModel",
          "model_module_version": "1.5.0",
          "state": {
            "_view_name": "HTMLView",
            "style": "IPY_MODEL_ef6e4d97448a4f75ad1b01fb8ce2f024",
            "_dom_classes": [],
            "description": "",
            "_model_name": "HTMLModel",
            "placeholder": "​",
            "_view_module": "@jupyter-widgets/controls",
            "_model_module_version": "1.5.0",
            "value": " 5120/? [00:00&lt;00:00, 87235.44it/s]",
            "_view_count": null,
            "_view_module_version": "1.5.0",
            "description_tooltip": null,
            "_model_module": "@jupyter-widgets/controls",
            "layout": "IPY_MODEL_b0b7fb48ef8c4f869b41b4dacb4100f7"
          }
        },
        "8651824aed6248bb9830ea21c1b5fd5b": {
          "model_module": "@jupyter-widgets/controls",
          "model_name": "DescriptionStyleModel",
          "model_module_version": "1.5.0",
          "state": {
            "_view_name": "StyleView",
            "_model_name": "DescriptionStyleModel",
            "description_width": "",
            "_view_module": "@jupyter-widgets/base",
            "_model_module_version": "1.5.0",
            "_view_count": null,
            "_view_module_version": "1.2.0",
            "_model_module": "@jupyter-widgets/controls"
          }
        },
        "5732c6fd0f5448b585e9d2bfa930da86": {
          "model_module": "@jupyter-widgets/base",
          "model_name": "LayoutModel",
          "model_module_version": "1.2.0",
          "state": {
            "_view_name": "LayoutView",
            "grid_template_rows": null,
            "right": null,
            "justify_content": null,
            "_view_module": "@jupyter-widgets/base",
            "overflow": null,
            "_model_module_version": "1.2.0",
            "_view_count": null,
            "flex_flow": null,
            "width": null,
            "min_width": null,
            "border": null,
            "align_items": null,
            "bottom": null,
            "_model_module": "@jupyter-widgets/base",
            "top": null,
            "grid_column": null,
            "overflow_y": null,
            "overflow_x": null,
            "grid_auto_flow": null,
            "grid_area": null,
            "grid_template_columns": null,
            "flex": null,
            "_model_name": "LayoutModel",
            "justify_items": null,
            "grid_row": null,
            "max_height": null,
            "align_content": null,
            "visibility": null,
            "align_self": null,
            "height": null,
            "min_height": null,
            "padding": null,
            "grid_auto_rows": null,
            "grid_gap": null,
            "max_width": null,
            "order": null,
            "_view_module_version": "1.2.0",
            "grid_template_areas": null,
            "object_position": null,
            "object_fit": null,
            "grid_auto_columns": null,
            "margin": null,
            "display": null,
            "left": null
          }
        },
        "0d983cc3996049d7b1a251004e6efed3": {
          "model_module": "@jupyter-widgets/controls",
          "model_name": "ProgressStyleModel",
          "model_module_version": "1.5.0",
          "state": {
            "_view_name": "StyleView",
            "_model_name": "ProgressStyleModel",
            "description_width": "",
            "_view_module": "@jupyter-widgets/base",
            "_model_module_version": "1.5.0",
            "_view_count": null,
            "_view_module_version": "1.2.0",
            "bar_color": null,
            "_model_module": "@jupyter-widgets/controls"
          }
        },
        "a19e3b5ef8c04f9c81170543ed5a04e1": {
          "model_module": "@jupyter-widgets/base",
          "model_name": "LayoutModel",
          "model_module_version": "1.2.0",
          "state": {
            "_view_name": "LayoutView",
            "grid_template_rows": null,
            "right": null,
            "justify_content": null,
            "_view_module": "@jupyter-widgets/base",
            "overflow": null,
            "_model_module_version": "1.2.0",
            "_view_count": null,
            "flex_flow": null,
            "width": null,
            "min_width": null,
            "border": null,
            "align_items": null,
            "bottom": null,
            "_model_module": "@jupyter-widgets/base",
            "top": null,
            "grid_column": null,
            "overflow_y": null,
            "overflow_x": null,
            "grid_auto_flow": null,
            "grid_area": null,
            "grid_template_columns": null,
            "flex": null,
            "_model_name": "LayoutModel",
            "justify_items": null,
            "grid_row": null,
            "max_height": null,
            "align_content": null,
            "visibility": null,
            "align_self": null,
            "height": null,
            "min_height": null,
            "padding": null,
            "grid_auto_rows": null,
            "grid_gap": null,
            "max_width": null,
            "order": null,
            "_view_module_version": "1.2.0",
            "grid_template_areas": null,
            "object_position": null,
            "object_fit": null,
            "grid_auto_columns": null,
            "margin": null,
            "display": null,
            "left": null
          }
        },
        "ef6e4d97448a4f75ad1b01fb8ce2f024": {
          "model_module": "@jupyter-widgets/controls",
          "model_name": "DescriptionStyleModel",
          "model_module_version": "1.5.0",
          "state": {
            "_view_name": "StyleView",
            "_model_name": "DescriptionStyleModel",
            "description_width": "",
            "_view_module": "@jupyter-widgets/base",
            "_model_module_version": "1.5.0",
            "_view_count": null,
            "_view_module_version": "1.2.0",
            "_model_module": "@jupyter-widgets/controls"
          }
        },
        "b0b7fb48ef8c4f869b41b4dacb4100f7": {
          "model_module": "@jupyter-widgets/base",
          "model_name": "LayoutModel",
          "model_module_version": "1.2.0",
          "state": {
            "_view_name": "LayoutView",
            "grid_template_rows": null,
            "right": null,
            "justify_content": null,
            "_view_module": "@jupyter-widgets/base",
            "overflow": null,
            "_model_module_version": "1.2.0",
            "_view_count": null,
            "flex_flow": null,
            "width": null,
            "min_width": null,
            "border": null,
            "align_items": null,
            "bottom": null,
            "_model_module": "@jupyter-widgets/base",
            "top": null,
            "grid_column": null,
            "overflow_y": null,
            "overflow_x": null,
            "grid_auto_flow": null,
            "grid_area": null,
            "grid_template_columns": null,
            "flex": null,
            "_model_name": "LayoutModel",
            "justify_items": null,
            "grid_row": null,
            "max_height": null,
            "align_content": null,
            "visibility": null,
            "align_self": null,
            "height": null,
            "min_height": null,
            "padding": null,
            "grid_auto_rows": null,
            "grid_gap": null,
            "max_width": null,
            "order": null,
            "_view_module_version": "1.2.0",
            "grid_template_areas": null,
            "object_position": null,
            "object_fit": null,
            "grid_auto_columns": null,
            "margin": null,
            "display": null,
            "left": null
          }
        }
      }
    }
  },
  "cells": [
    {
      "cell_type": "code",
      "metadata": {
        "id": "cHYpH_0AGWp8"
      },
      "source": [
        "import numpy as np\n",
        "import pandas as pd\n",
        "import tensorflow as tf\n",
        "from sklearn.metrics import plot_confusion_matrix"
      ],
      "execution_count": 1,
      "outputs": []
    },
    {
      "cell_type": "markdown",
      "metadata": {
        "id": "k0TztsR59I3r"
      },
      "source": [
        "##Using ANN for classifying if person in image is wearing a mask or not"
      ]
    },
    {
      "cell_type": "code",
      "metadata": {
        "colab": {
          "base_uri": "https://localhost:8080/"
        },
        "id": "opOe_Xq1GkSG",
        "outputId": "bb4506c2-be59-4d43-dcf5-91055eb72e11"
      },
      "source": [
        "from google.colab import drive #mounting drive as the data is too large to upload \n",
        "drive.mount('/content/drive')"
      ],
      "execution_count": 2,
      "outputs": [
        {
          "output_type": "stream",
          "name": "stdout",
          "text": [
            "Mounted at /content/drive\n"
          ]
        }
      ]
    },
    {
      "cell_type": "code",
      "metadata": {
        "id": "4taUZS7oHBjJ"
      },
      "source": [
        "import os,zipfile,cv2\n",
        "file = zipfile.ZipFile('/content/drive/MyDrive/self-built-masked-face-recognition-dataset.zip')  #extracting data from zipped file\n",
        "file.extractall('.')"
      ],
      "execution_count": 3,
      "outputs": []
    },
    {
      "cell_type": "code",
      "metadata": {
        "id": "_dGuKda8oQdJ"
      },
      "source": [
        "data= [] \n",
        "label = []"
      ],
      "execution_count": 4,
      "outputs": []
    },
    {
      "cell_type": "code",
      "metadata": {
        "id": "jsbG7JOSGrWD"
      },
      "source": [
        "k = 0\n",
        "for i in os.listdir('/content/self-built-masked-face-recognition-dataset/AFDB_face_dataset'):\n",
        "        image_path = ('/content/self-built-masked-face-recognition-dataset/AFDB_face_dataset')+'/'+i\n",
        "        for j in os.listdir(image_path):\n",
        "          if k<4000:\n",
        "            image = cv2.imread(image_path+'/'+j)\n",
        "            data.append(cv2.resize(image,(100,100)))\n",
        "            label.append(0)\n",
        "          k+=1\n",
        "\n"
      ],
      "execution_count": 5,
      "outputs": []
    },
    {
      "cell_type": "code",
      "metadata": {
        "id": "X-1G_kd9MPT9"
      },
      "source": [
        "k = 0\n",
        "for i in os.listdir('/content/self-built-masked-face-recognition-dataset/AFDB_masked_face_dataset'):\n",
        "        image_path = ('/content/self-built-masked-face-recognition-dataset/AFDB_masked_face_dataset')+'/'+i\n",
        "        for j in os.listdir(image_path):\n",
        "          if k<4000:\n",
        "            image = cv2.imread(image_path+'/'+j)\n",
        "            data.append(cv2.resize(image,(100,100)))\n",
        "            label.append(1)\n",
        "          k+=1\n"
      ],
      "execution_count": 6,
      "outputs": []
    },
    {
      "cell_type": "code",
      "metadata": {
        "id": "e8VddqpYM4a8"
      },
      "source": [
        "data = np.array(data).reshape(-1,100*100*3)\n",
        "label = np.array(label).reshape(-1,1)"
      ],
      "execution_count": 7,
      "outputs": []
    },
    {
      "cell_type": "code",
      "metadata": {
        "colab": {
          "base_uri": "https://localhost:8080/"
        },
        "id": "AJeXE7xONHw3",
        "outputId": "5f19277c-7ebb-4dde-f3b9-4bc85722f937"
      },
      "source": [
        "data.shape"
      ],
      "execution_count": 8,
      "outputs": [
        {
          "output_type": "execute_result",
          "data": {
            "text/plain": [
              "(6203, 30000)"
            ]
          },
          "metadata": {},
          "execution_count": 8
        }
      ]
    },
    {
      "cell_type": "code",
      "metadata": {
        "colab": {
          "base_uri": "https://localhost:8080/"
        },
        "id": "jomYtNfnNL86",
        "outputId": "a5b7dd97-622a-4671-a945-499e2aeeafab"
      },
      "source": [
        "label.shape"
      ],
      "execution_count": 9,
      "outputs": [
        {
          "output_type": "execute_result",
          "data": {
            "text/plain": [
              "(6203, 1)"
            ]
          },
          "metadata": {},
          "execution_count": 9
        }
      ]
    },
    {
      "cell_type": "code",
      "metadata": {
        "id": "Ja1YvJzqNgmq"
      },
      "source": [
        "X=pd.DataFrame(data)"
      ],
      "execution_count": 10,
      "outputs": []
    },
    {
      "cell_type": "code",
      "metadata": {
        "id": "IAqFNxwYOoOp"
      },
      "source": [
        "Y = pd.DataFrame(label)"
      ],
      "execution_count": 11,
      "outputs": []
    },
    {
      "cell_type": "code",
      "metadata": {
        "id": "aMHM57hBOzTo"
      },
      "source": [
        "from sklearn.model_selection import train_test_split"
      ],
      "execution_count": 12,
      "outputs": []
    },
    {
      "cell_type": "code",
      "metadata": {
        "id": "VjEFEzF4PV8M"
      },
      "source": [
        "X_train,X_test,Y_train,Y_test = train_test_split(X,Y,test_size=0.5,random_state=42)"
      ],
      "execution_count": 13,
      "outputs": []
    },
    {
      "cell_type": "code",
      "metadata": {
        "colab": {
          "base_uri": "https://localhost:8080/"
        },
        "id": "FMyudlACbLxR",
        "outputId": "b859fa68-f348-4451-8c9b-b25dbf527020"
      },
      "source": [
        "print(X_train)"
      ],
      "execution_count": 14,
      "outputs": [
        {
          "output_type": "stream",
          "name": "stdout",
          "text": [
            "      0      1      2      3      4      ...  29995  29996  29997  29998  29999\n",
            "3905     69    115    146     72    118  ...    177    190    125    177    190\n",
            "4812    116    136    124    109    129  ...    218    188    206    217    187\n",
            "2269     34     19     79     35     21  ...     74    139     69     65    130\n",
            "6097     24     35     62     22     33  ...     57     61     74     72     78\n",
            "3352    122    111    100    107     94  ...     52     35     72     56     39\n",
            "...     ...    ...    ...    ...    ...  ...    ...    ...    ...    ...    ...\n",
            "3772     30     27     36     23     21  ...     18     18     15     15     15\n",
            "5191     11      5     15     12      5  ...      3     14      7      3     14\n",
            "5226     61     56     55     61     57  ...     76     89     56     61     70\n",
            "5390     41     46     45     42     44  ...    162    154    167    164    154\n",
            "860      42     48     62     37     42  ...     73     68     76     72     67\n",
            "\n",
            "[3101 rows x 30000 columns]\n"
          ]
        }
      ]
    },
    {
      "cell_type": "code",
      "metadata": {
        "colab": {
          "base_uri": "https://localhost:8080/"
        },
        "id": "GLeHdFSubPAF",
        "outputId": "5cb679ff-a5f4-4a02-99c2-d1f4c66e90dc"
      },
      "source": [
        "print(Y_train)"
      ],
      "execution_count": 15,
      "outputs": [
        {
          "output_type": "stream",
          "name": "stdout",
          "text": [
            "      0\n",
            "3905  0\n",
            "4812  1\n",
            "2269  0\n",
            "6097  1\n",
            "3352  0\n",
            "...  ..\n",
            "3772  0\n",
            "5191  1\n",
            "5226  1\n",
            "5390  1\n",
            "860   0\n",
            "\n",
            "[3101 rows x 1 columns]\n"
          ]
        }
      ]
    },
    {
      "cell_type": "code",
      "metadata": {
        "id": "L0qha5Pld5NZ"
      },
      "source": [
        "from sklearn.preprocessing import StandardScaler\n",
        "sc = StandardScaler()\n",
        "X_train = sc.fit_transform(X_train)\n",
        "X_test = sc.transform(X_test)"
      ],
      "execution_count": 16,
      "outputs": []
    },
    {
      "cell_type": "markdown",
      "metadata": {
        "id": "fvvkdbEKeCye"
      },
      "source": [
        "##Initializing Artificial Neural Network"
      ]
    },
    {
      "cell_type": "code",
      "metadata": {
        "id": "G1ZinCGceEiu"
      },
      "source": [
        "ann = tf.keras.models.Sequential()"
      ],
      "execution_count": 17,
      "outputs": []
    },
    {
      "cell_type": "code",
      "metadata": {
        "id": "wvNCf5pFeJPV"
      },
      "source": [
        "ann.add(tf.keras.layers.Dense(units=6,activation=\"relu\"))\n",
        "ann.add(tf.keras.layers.Dense(units=6,activation=\"relu\"))"
      ],
      "execution_count": 18,
      "outputs": []
    },
    {
      "cell_type": "code",
      "metadata": {
        "id": "bUlSh3faeZ3k"
      },
      "source": [
        "ann.add(tf.keras.layers.Dense(units=1,activation=\"sigmoid\"))"
      ],
      "execution_count": 19,
      "outputs": []
    },
    {
      "cell_type": "code",
      "metadata": {
        "id": "VRQmUaxHec6Z"
      },
      "source": [
        "ann.compile(optimizer=\"adam\",loss=\"binary_crossentropy\",metrics=['accuracy'])"
      ],
      "execution_count": 20,
      "outputs": []
    },
    {
      "cell_type": "code",
      "metadata": {
        "colab": {
          "base_uri": "https://localhost:8080/"
        },
        "id": "fw2RqFsifRy6",
        "outputId": "6d62453b-0dd8-44e6-f9a4-bd864d10604a"
      },
      "source": [
        "ann.fit(X_train,Y_train,batch_size=32,epochs =50)"
      ],
      "execution_count": 21,
      "outputs": [
        {
          "output_type": "stream",
          "name": "stdout",
          "text": [
            "Epoch 1/50\n",
            "97/97 [==============================] - 1s 6ms/step - loss: 0.8113 - accuracy: 0.6417\n",
            "Epoch 2/50\n",
            "97/97 [==============================] - 1s 6ms/step - loss: 0.3692 - accuracy: 0.8652\n",
            "Epoch 3/50\n",
            "97/97 [==============================] - 1s 6ms/step - loss: 0.2251 - accuracy: 0.9207\n",
            "Epoch 4/50\n",
            "97/97 [==============================] - 1s 6ms/step - loss: 0.2003 - accuracy: 0.9339\n",
            "Epoch 5/50\n",
            "97/97 [==============================] - 1s 6ms/step - loss: 0.1399 - accuracy: 0.9529\n",
            "Epoch 6/50\n",
            "97/97 [==============================] - 1s 6ms/step - loss: 0.1191 - accuracy: 0.9649\n",
            "Epoch 7/50\n",
            "97/97 [==============================] - 1s 6ms/step - loss: 0.1175 - accuracy: 0.9687\n",
            "Epoch 8/50\n",
            "97/97 [==============================] - 1s 6ms/step - loss: 0.1032 - accuracy: 0.9652\n",
            "Epoch 9/50\n",
            "97/97 [==============================] - 1s 6ms/step - loss: 0.0795 - accuracy: 0.9797\n",
            "Epoch 10/50\n",
            "97/97 [==============================] - 1s 6ms/step - loss: 0.0677 - accuracy: 0.9836\n",
            "Epoch 11/50\n",
            "97/97 [==============================] - 1s 6ms/step - loss: 0.0564 - accuracy: 0.9839\n",
            "Epoch 12/50\n",
            "97/97 [==============================] - 1s 6ms/step - loss: 0.0696 - accuracy: 0.9794\n",
            "Epoch 13/50\n",
            "97/97 [==============================] - 1s 6ms/step - loss: 0.0660 - accuracy: 0.9823\n",
            "Epoch 14/50\n",
            "97/97 [==============================] - 1s 6ms/step - loss: 0.0673 - accuracy: 0.9823\n",
            "Epoch 15/50\n",
            "97/97 [==============================] - 1s 6ms/step - loss: 0.0558 - accuracy: 0.9823\n",
            "Epoch 16/50\n",
            "97/97 [==============================] - 1s 6ms/step - loss: 0.0374 - accuracy: 0.9890\n",
            "Epoch 17/50\n",
            "97/97 [==============================] - 1s 6ms/step - loss: 0.0265 - accuracy: 0.9910\n",
            "Epoch 18/50\n",
            "97/97 [==============================] - 1s 6ms/step - loss: 0.0194 - accuracy: 0.9945\n",
            "Epoch 19/50\n",
            "97/97 [==============================] - 1s 6ms/step - loss: 0.0203 - accuracy: 0.9939\n",
            "Epoch 20/50\n",
            "97/97 [==============================] - 1s 6ms/step - loss: 0.0314 - accuracy: 0.9910\n",
            "Epoch 21/50\n",
            "97/97 [==============================] - 1s 6ms/step - loss: 0.0466 - accuracy: 0.9877\n",
            "Epoch 22/50\n",
            "97/97 [==============================] - 1s 5ms/step - loss: 0.0521 - accuracy: 0.9852\n",
            "Epoch 23/50\n",
            "97/97 [==============================] - 1s 6ms/step - loss: 0.0606 - accuracy: 0.9839\n",
            "Epoch 24/50\n",
            "97/97 [==============================] - 1s 6ms/step - loss: 0.0440 - accuracy: 0.9877\n",
            "Epoch 25/50\n",
            "97/97 [==============================] - 1s 6ms/step - loss: 0.0228 - accuracy: 0.9926\n",
            "Epoch 26/50\n",
            "97/97 [==============================] - 1s 6ms/step - loss: 0.0145 - accuracy: 0.9952\n",
            "Epoch 27/50\n",
            "97/97 [==============================] - 1s 6ms/step - loss: 0.0121 - accuracy: 0.9948\n",
            "Epoch 28/50\n",
            "97/97 [==============================] - 1s 6ms/step - loss: 0.0086 - accuracy: 0.9955\n",
            "Epoch 29/50\n",
            "97/97 [==============================] - 1s 6ms/step - loss: 0.0072 - accuracy: 0.9965\n",
            "Epoch 30/50\n",
            "97/97 [==============================] - 1s 6ms/step - loss: 0.0072 - accuracy: 0.9965\n",
            "Epoch 31/50\n",
            "97/97 [==============================] - 1s 6ms/step - loss: 0.0084 - accuracy: 0.9965\n",
            "Epoch 32/50\n",
            "97/97 [==============================] - 1s 6ms/step - loss: 0.0191 - accuracy: 0.9929\n",
            "Epoch 33/50\n",
            "97/97 [==============================] - 1s 5ms/step - loss: 0.0083 - accuracy: 0.9958\n",
            "Epoch 34/50\n",
            "97/97 [==============================] - 1s 6ms/step - loss: 0.0066 - accuracy: 0.9961\n",
            "Epoch 35/50\n",
            "97/97 [==============================] - 1s 6ms/step - loss: 0.0069 - accuracy: 0.9958\n",
            "Epoch 36/50\n",
            "97/97 [==============================] - 1s 6ms/step - loss: 0.0183 - accuracy: 0.9929\n",
            "Epoch 37/50\n",
            "97/97 [==============================] - 1s 6ms/step - loss: 0.1913 - accuracy: 0.9558\n",
            "Epoch 38/50\n",
            "97/97 [==============================] - 1s 6ms/step - loss: 0.1559 - accuracy: 0.9678\n",
            "Epoch 39/50\n",
            "97/97 [==============================] - 1s 6ms/step - loss: 0.0829 - accuracy: 0.9826\n",
            "Epoch 40/50\n",
            "97/97 [==============================] - 1s 6ms/step - loss: 0.0352 - accuracy: 0.9903\n",
            "Epoch 41/50\n",
            "97/97 [==============================] - 1s 6ms/step - loss: 0.0141 - accuracy: 0.9955\n",
            "Epoch 42/50\n",
            "97/97 [==============================] - 1s 6ms/step - loss: 0.0137 - accuracy: 0.9952\n",
            "Epoch 43/50\n",
            "97/97 [==============================] - 1s 6ms/step - loss: 0.0124 - accuracy: 0.9958\n",
            "Epoch 44/50\n",
            "97/97 [==============================] - 1s 5ms/step - loss: 0.0085 - accuracy: 0.9961\n",
            "Epoch 45/50\n",
            "97/97 [==============================] - 1s 5ms/step - loss: 0.0072 - accuracy: 0.9961\n",
            "Epoch 46/50\n",
            "97/97 [==============================] - 1s 6ms/step - loss: 0.0069 - accuracy: 0.9961\n",
            "Epoch 47/50\n",
            "97/97 [==============================] - 1s 6ms/step - loss: 0.0068 - accuracy: 0.9961\n",
            "Epoch 48/50\n",
            "97/97 [==============================] - 1s 5ms/step - loss: 0.0069 - accuracy: 0.9961\n",
            "Epoch 49/50\n",
            "97/97 [==============================] - 1s 5ms/step - loss: 0.0074 - accuracy: 0.9958\n",
            "Epoch 50/50\n",
            "97/97 [==============================] - 1s 5ms/step - loss: 0.0074 - accuracy: 0.9958\n"
          ]
        },
        {
          "output_type": "execute_result",
          "data": {
            "text/plain": [
              "<keras.callbacks.History at 0x7f90ab7b2290>"
            ]
          },
          "metadata": {},
          "execution_count": 21
        }
      ]
    },
    {
      "cell_type": "code",
      "metadata": {
        "id": "4e8UP14PfpL5"
      },
      "source": [
        "Y_pred = ann.predict(X_test)"
      ],
      "execution_count": 22,
      "outputs": []
    },
    {
      "cell_type": "code",
      "metadata": {
        "id": "SswI1RPagm9S"
      },
      "source": [
        "from sklearn.metrics import mean_squared_error"
      ],
      "execution_count": 23,
      "outputs": []
    },
    {
      "cell_type": "code",
      "metadata": {
        "colab": {
          "base_uri": "https://localhost:8080/"
        },
        "id": "w_MGcxKqgLjn",
        "outputId": "225f2bee-d713-4d5c-ba09-9eaa007b0e04"
      },
      "source": [
        "print(mean_squared_error(Y_test,Y_pred))"
      ],
      "execution_count": 24,
      "outputs": [
        {
          "output_type": "stream",
          "name": "stdout",
          "text": [
            "0.03169804895506675\n"
          ]
        }
      ]
    },
    {
      "cell_type": "markdown",
      "metadata": {
        "id": "uMeSvERlgqrq"
      },
      "source": [
        "##SNN"
      ]
    },
    {
      "cell_type": "code",
      "metadata": {
        "colab": {
          "base_uri": "https://localhost:8080/",
          "height": 467,
          "referenced_widgets": [
            "e6bf1ac898ce43519e332bf024bc9587",
            "de351e16b7d0458fb8adcffc6b6064b3",
            "c3f01ba59adb4602a286f62d16ce86be",
            "a7990ef31216414f84b05e0c0337bc86",
            "80aa6ff17df248ce887bec657d29d9af",
            "6a93a3b424764a21a4b8dd6de6636afb",
            "163ebb022f744c8b94823a9f686db8a8",
            "9786f5cb98c14cb4a1491dd6be2fffc7",
            "5b58d4babb8345ef9048be461cb1e3f3",
            "26b36b7682e74c8191857170dd5d2256",
            "5602ffd162e049739beea7957983235c",
            "28827627f63141d080bdf50c3e1178b0",
            "dd17af0c62d844d588c758a4013033a4",
            "31b5b759815e4495a9150556ce84c666",
            "44291f2c67ac4f3691977e9ed39c513c",
            "5fde8c26805b4f76b935d76e192fa429",
            "d7aa43a5af9b4aff9c5361a3cbf85399",
            "09784f71d19f4c1b833e88560c4f7796",
            "a7b06856eb00477188d9d1ec8ee11af4",
            "720d16f0c800467e9c3c0eae83f0fe21",
            "7a9ae45b781a42c1bc7adb53f36bc2bc",
            "9a7086a599bb453996381651bc6e13ce",
            "71b69bf8e2524755bc83b50d66ed8121",
            "5c0de2c5b2b84f17ae07e3c9532e088c",
            "5e285082fa544246906c34faeb8d6605",
            "8506121e655244f3975faed9166534bf",
            "fc1f4948083540b4a27950122f12355a",
            "c0c62a64e17c432cb89bca34502ff449",
            "f53de56f495a40ffba01f9db3f263fce",
            "e87b4f9997214206bd3870bcb913404b",
            "164b0aad6fae4b798b9794948ceede32",
            "4251d5000b8c49f7978e09820e442a3a",
            "1a2a7a2a55bb452db245e1d349bcae5f",
            "39224ff3dd7d41e8af797f70ea1bf5c4",
            "5c763bb33a424250beb9ec001cc699e7",
            "a52a978d9f154d3786695dee460701b8",
            "7196aa2d49044cb5bce3233e98ffb5a3",
            "8285f6b104f449668bc611bf2234a62c",
            "8651824aed6248bb9830ea21c1b5fd5b",
            "5732c6fd0f5448b585e9d2bfa930da86",
            "0d983cc3996049d7b1a251004e6efed3",
            "a19e3b5ef8c04f9c81170543ed5a04e1",
            "ef6e4d97448a4f75ad1b01fb8ce2f024",
            "b0b7fb48ef8c4f869b41b4dacb4100f7"
          ]
        },
        "id": "6XON90FagqFw",
        "outputId": "e7e3fdb6-d11f-449c-c3bb-a4c4e28d79c7"
      },
      "source": [
        "import os  #importing all the pytorch libraries and maatplotlib which will be used later \n",
        "import matplotlib.pyplot as plt\n",
        "import torchvision.datasets\n",
        "import torch\n",
        "import torch.nn as nn\n",
        "import torch.nn.functional as F\n",
        "import torch.optim as optim\n",
        "import torchvision.transforms as transforms\n",
        "from torch.autograd import Variable\n",
        " \n",
        "#Refrence for below implementation have been taken from https://github.com/guillaume-chevalier/Spiking-Neural-Network-SNN-with-PyTorch-where-Backpropagation-engenders-STDP?_gl=1*ifui6*_ga*MTk4ODgwNDM1OS4xNjM2NTI4Nzcy*_ga_EKMG32KYCD*MTYzNjU0MTIwNS4yLjEuMTYzNjU0MTIxNC41MQ..\n",
        "def train(model, device, train_set_loader, optimizer, epoch, logging_interval=100):\n",
        "    model.train()\n",
        "    for batch_idx, (data, target) in enumerate(train_set_loader):\n",
        "        data, target = data.to(device), target.to(device)\n",
        "        optimizer.zero_grad()\n",
        "        output = model(data)\n",
        "        loss = F.nll_loss(output, target)\n",
        "        loss.backward()\n",
        "        optimizer.step()\n",
        " \n",
        "        if batch_idx % logging_interval == 0:\n",
        "            pred = output.max(1, keepdim=True)[1]  # get the index of the max log-probability\n",
        "            correct = pred.eq(target.view_as(pred)).float().mean().item()\n",
        "            print('Train Epoch: {} [{}/{} ({:.0f}%)] Loss: {:.6f} Accuracy: {:.2f}%'.format(\n",
        "                epoch, batch_idx * len(data), len(train_set_loader.dataset),\n",
        "                100. * batch_idx / len(train_set_loader), loss.item(),\n",
        "                100. * correct))\n",
        " \n",
        "def train_many_epochs(model):\n",
        "    epoch = 1\n",
        "    optimizer = optim.SGD(model.parameters(), lr=0.1, momentum=0.5)\n",
        "    train(model, device, train_set_loader, optimizer, epoch, logging_interval=10)\n",
        "    test(model, device, test_set_loader)\n",
        " \n",
        "    epoch = 2\n",
        "    optimizer = optim.SGD(model.parameters(), lr=0.05, momentum=0.5)\n",
        "    train(model, device, train_set_loader, optimizer, epoch, logging_interval=10)\n",
        "    test(model, device, test_set_loader)\n",
        " \n",
        "    epoch = 3\n",
        "    optimizer = optim.SGD(model.parameters(), lr=0.01, momentum=0.5)\n",
        "    train(model, device, train_set_loader, optimizer, epoch, logging_interval=10)\n",
        "    test(model, device, test_set_loader)\n",
        " \n",
        "def test(model, device, test_set_loader):\n",
        " \n",
        "    model.eval()\n",
        "    test_loss = 0\n",
        "    correct = 0\n",
        " \n",
        "    with torch.no_grad():\n",
        "        for data, target in test_set_loader:\n",
        "            data, target = data.to(device), target.to(device)\n",
        "            output = model(data)\n",
        "            test_loss += F.nll_loss(output, target, reduce=True).item() # sum up batch loss\n",
        "            pred = output.max(1, keepdim=True)[1] # get the index of the max log-probability\n",
        "            correct += pred.eq(target.view_as(pred)).sum().item()\n",
        " \n",
        "    test_loss /= len(test_set_loader.dataset)\n",
        "    print(\"\")\n",
        "    print('Test set: Average loss: {:.4f}, Accuracy: {}/{} ({:.2f}%)'.format(\n",
        "        test_loss,\n",
        "        correct, len(test_set_loader.dataset),\n",
        "        100. * correct / len(test_set_loader.dataset)))\n",
        "    print(\"\")\n",
        " \n",
        "def download_mnist(data_path):\n",
        "    if not os.path.exists(data_path):\n",
        "        os.mkdir(data_path)\n",
        "    transformation = transforms.Compose(\n",
        "        [transforms.ToTensor(), transforms.Normalize((0.5,), (1.0,))])\n",
        "    training_set = torchvision.datasets.MNIST(\n",
        "        data_path, train=True, transform=transformation, download=True)\n",
        "    testing_set = torchvision.datasets.MNIST(\n",
        "        data_path, train=False, transform=transformation, download=True)\n",
        "    return training_set, testing_set\n",
        " \n",
        "batch_size = 1000\n",
        "DATA_PATH = './data'\n",
        " \n",
        "training_set, testing_set = download_mnist(DATA_PATH)\n",
        "train_set_loader = torch.utils.data.DataLoader(\n",
        "    dataset=training_set,\n",
        "    batch_size=batch_size,\n",
        "    shuffle=True)\n",
        "test_set_loader = torch.utils.data.DataLoader(\n",
        "    dataset=testing_set,\n",
        "    batch_size=batch_size,\n",
        "    shuffle=False)\n",
        "# Use GPU whever possible!\n",
        "use_cuda = torch.cuda.is_available()\n",
        "device = torch.device(\"cuda\" if use_cuda else \"cpu\")\n",
        "class SpikingNeuronLayerRNN(nn.Module):\n",
        " \n",
        "    def __init__(\n",
        "        self, device, n_inputs=28*28, n_hidden=100, \n",
        "        decay_multiplier=0.9, threshold=2.0, penalty_threshold=2.5\n",
        "    ):\n",
        "        super(SpikingNeuronLayerRNN, self).__init__()\n",
        "        self.device = device\n",
        "        self.n_inputs = n_inputs\n",
        "        self.n_hidden = n_hidden\n",
        "        self.decay_multiplier = decay_multiplier\n",
        "        self.threshold = threshold\n",
        "        self.penalty_threshold = penalty_threshold\n",
        " \n",
        "        self.fc = nn.Linear(n_inputs, n_hidden)\n",
        " \n",
        "        self.init_parameters()\n",
        "        self.reset_state()\n",
        "        self.to(self.device)\n",
        " \n",
        "    def init_parameters(self):\n",
        "        for param in self.parameters():\n",
        "            if param.dim() >= 2:\n",
        "                nn.init.xavier_uniform_(param)\n",
        " \n",
        "    def reset_state(self):\n",
        "        self.prev_inner = torch.zeros([self.n_hidden]).to(self.device)\n",
        "        self.prev_outer = torch.zeros([self.n_hidden]).to(self.device)\n",
        " \n",
        "    def forward(self, x):\n",
        "        \n",
        "        \n",
        "        if self.prev_inner.dim() == 1:\n",
        "            # Adding batch_size dimension directly after doing a `self.reset_state()`:\n",
        "            batch_size = x.shape[0]\n",
        "            self.prev_inner = torch.stack(batch_size * [self.prev_inner])\n",
        "            self.prev_outer = torch.stack(batch_size * [self.prev_outer])\n",
        " \n",
        "        # 1. Weight matrix multiplies the input x\n",
        "        input_excitation = self.fc(x)\n",
        " \n",
        "        # 2. We add the result to a decayed version of the information we already had.\n",
        "        inner_excitation = input_excitation + self.prev_inner * self.decay_multiplier\n",
        " \n",
        "        # 3. We compute the activation of the neuron to find its output value,\n",
        "        #    but before the activation, there is also a negative bias \n",
        "        #    that refrain thing from firing too much.\n",
        "        outer_excitation = F.relu(inner_excitation - self.threshold)\n",
        " \n",
        "        # 4. If the neuron fires, the activation of the \n",
        "        #    neuron is subtracted to its inner state\n",
        "        #    (and with an extra penalty for increase refractory time),\n",
        "        #    because it discharges naturally so it shouldn't fire twice.\n",
        "        do_penalize_gate = (outer_excitation > 0).float()\n",
        "        # TODO: remove following /2?\n",
        "        inner_excitation = inner_excitation - do_penalize_gate * (\n",
        "            self.penalty_threshold/self.threshold * inner_excitation)\n",
        " \n",
        "        # 5. The outer excitation has a negative part after the positive part.\n",
        "        outer_excitation = outer_excitation \n",
        "        # + torch.abs(self.prev_outer) * self.decay_multiplier / 2.0\n",
        " \n",
        "        # 6. Setting internal values before returning.\n",
        "        #    And the returning value is the one of the previous time step to delay\n",
        "        #    activation of 1 time step of \"processing\" time. \n",
        "        #    For logits, we don't take activation.\n",
        "        delayed_return_state = self.prev_inner\n",
        "        delayed_return_output = self.prev_outer\n",
        "        self.prev_inner = inner_excitation\n",
        "        self.prev_outer = outer_excitation\n",
        "        return delayed_return_state, delayed_return_output\n",
        " \n",
        " \n",
        "class InputDataToSpikingPerceptronLayer(nn.Module):\n",
        " \n",
        "    def __init__(self, device):\n",
        "        super(InputDataToSpikingPerceptronLayer, self).__init__()\n",
        "        self.device = device\n",
        " \n",
        "        self.reset_state()\n",
        "        self.to(self.device)\n",
        " \n",
        "    def reset_state(self):\n",
        "        #     self.prev_state = torch.zeros([self.n_hidden]).to(self.device)\n",
        "        pass\n",
        " \n",
        "    def forward(self, x, is_2D=True):\n",
        "        x = x.view(x.size(0), -1)  # Flatten 2D image to 1D for FC\n",
        "        random_activation_perceptron = torch.rand(x.shape).to(self.device)\n",
        "        return random_activation_perceptron * x\n",
        " \n",
        " \n",
        "class OutputDataToSpikingPerceptronLayer(nn.Module):\n",
        " \n",
        "    def __init__(self, average_output=True):\n",
        "       \n",
        "        super(OutputDataToSpikingPerceptronLayer, self).__init__()\n",
        "        if average_output:\n",
        "            self.reducer = lambda x, dim: x.sum(dim=dim)\n",
        "        else:\n",
        "            self.reducer = lambda x, dim: x.mean(dim=dim)\n",
        " \n",
        "    def forward(self, x):\n",
        "        if type(x) == list:\n",
        "            x = torch.stack(x)\n",
        "        return self.reducer(x, 0)\n",
        " \n",
        " \n",
        "class SpikingNet(nn.Module):\n",
        " \n",
        "    def __init__(self, device, n_time_steps, begin_eval):\n",
        "        super(SpikingNet, self).__init__()\n",
        "        assert (0 <= begin_eval and begin_eval < n_time_steps)\n",
        "        self.device = device\n",
        "        self.n_time_steps = n_time_steps\n",
        "        self.begin_eval = begin_eval\n",
        " \n",
        "        self.input_conversion = InputDataToSpikingPerceptronLayer(device)\n",
        " \n",
        "        self.layer1 = SpikingNeuronLayerRNN(\n",
        "            device, n_inputs=28*28, n_hidden=100,\n",
        "            decay_multiplier=0.9, threshold=1.0, penalty_threshold=1.5\n",
        "        )\n",
        " \n",
        "        self.layer2 = SpikingNeuronLayerRNN(\n",
        "            device, n_inputs=100, n_hidden=10,\n",
        "            decay_multiplier=0.9, threshold=1.0, penalty_threshold=1.5\n",
        "        )\n",
        " \n",
        "        self.output_conversion = OutputDataToSpikingPerceptronLayer(\n",
        "            average_output=False)  # Sum on outputs.\n",
        " \n",
        "        self.to(self.device)\n",
        " \n",
        "    def forward_through_time(self, x):\n",
        "        \n",
        "        self.input_conversion.reset_state()\n",
        "        self.layer1.reset_state()\n",
        "        self.layer2.reset_state()\n",
        " \n",
        "        out = []\n",
        " \n",
        "        all_layer1_states = []\n",
        "        all_layer1_outputs = []\n",
        "        all_layer2_states = []\n",
        "        all_layer2_outputs = []\n",
        "        for _ in range(self.n_time_steps):\n",
        "            xi = self.input_conversion(x)\n",
        " \n",
        "            # For layer 1, we take the regular output.\n",
        "            layer1_state, layer1_output = self.layer1(xi)\n",
        " \n",
        "            # We take inner state of layer 2 because it's \n",
        "            # pre-activation and thus acts as out logits.\n",
        "            layer2_state, layer2_output = self.layer2(layer1_output)\n",
        " \n",
        "            all_layer1_states.append(layer1_state)\n",
        "            all_layer1_outputs.append(layer1_output)\n",
        "            all_layer2_states.append(layer2_state)\n",
        "            all_layer2_outputs.append(layer2_output)\n",
        "            out.append(layer2_state)\n",
        " \n",
        "        out = self.output_conversion(out[self.begin_eval:])\n",
        "        return out, [[all_layer1_states, all_layer1_outputs], [\n",
        "            all_layer2_states, all_layer2_outputs]]\n",
        " \n",
        "    def forward(self, x):\n",
        "        out, _ = self.forward_through_time(x)\n",
        "        return F.log_softmax(out, dim=-1)\n",
        " \n",
        "    def visualize_all_neurons(self, x):\n",
        "        assert x.shape[0] == 1 and len(x.shape) == 4, (\n",
        "            )\n",
        "        _, layers_state = self.forward_through_time(x)\n",
        " \n",
        "        for i, (all_layer_states, all_layer_outputs) in enumerate(layers_state):\n",
        "            layer_state  =  torch.stack(all_layer_states).data.cpu(\n",
        "                ).numpy().squeeze().transpose()\n",
        "            layer_output = torch.stack(all_layer_outputs).data.cpu(\n",
        "                ).numpy().squeeze().transpose()\n",
        " \n",
        "            self.plot_layer(layer_state, title=\"Inner state values of neurons for layer {}\".format(i))\n",
        "            self.plot_layer(layer_output, title=\"Output spikes (activation) values of neurons for layer {}\".format(i))\n",
        " \n",
        "    def visualize_neuron(self, x, layer_idx, neuron_idx):\n",
        "        assert x.shape[0] == 1 and len(x.shape) == 4, (\n",
        "            \"Pass only 1 example to SpikingNet.visualize(x) with outer dimension shape of 1.\")\n",
        "        _, layers_state = self.forward_through_time(x)\n",
        " \n",
        "        all_layer_states, all_layer_outputs = layers_state[layer_idx]\n",
        "        layer_state  =  torch.stack(all_layer_states).data.cpu(\n",
        "            ).numpy().squeeze().transpose()\n",
        "        layer_output = torch.stack(all_layer_outputs).data.cpu(\n",
        "            ).numpy().squeeze().transpose()\n",
        " \n",
        "        self.plot_neuron(\n",
        "            layer_state[neuron_idx], \n",
        "            title=\"Inner state values neuron {} of layer {}\".format(neuron_idx, layer_idx))\n",
        "        self.plot_neuron(\n",
        "            layer_output[neuron_idx], \n",
        "            title=\"Output spikes (activation) values of neuron {} of layer {}\".format(neuron_idx, layer_idx))\n",
        " \n",
        "    def plot_layer(self, layer_values, title):\n",
        "        \"\"\"\n",
        "        This function is derived from:\n",
        "            https://github.com/guillaume-chevalier/LSTM-Human-Activity-Recognition\n",
        "        Which was released under the MIT License.\n",
        "        \"\"\"\n",
        "        width = max(16, layer_values.shape[0] / 8)\n",
        "        height = max(4, layer_values.shape[1] / 8)\n",
        "        plt.figure(figsize=(width, height))\n",
        "        plt.imshow(\n",
        "            layer_values,\n",
        "            interpolation=\"nearest\",\n",
        "            cmap=plt.cm.rainbow\n",
        "        )\n",
        "        plt.title(title)\n",
        "        plt.colorbar()\n",
        "        plt.xlabel(\"Time\")\n",
        "        plt.ylabel(\"Neurons of layer\")\n",
        "        plt.show()\n",
        " \n",
        "    def plot_neuron(self, neuron_through_time, title):\n",
        "        width = max(16, len(neuron_through_time) / 8)\n",
        "        height = 4\n",
        "        plt.figure(figsize=(width, height))\n",
        "        plt.title(title)\n",
        "        plt.plot(neuron_through_time)\n",
        "        plt.xlabel(\"Time\")\n",
        "        plt.ylabel(\"Neuron's activation\")\n",
        "        plt.show()\n",
        " \n",
        "class NonSpikingNet(nn.Module):\n",
        " \n",
        "    def __init__(self):\n",
        "        super(NonSpikingNet, self).__init__()\n",
        "        self.layer1 = nn.Linear(28*28, 100)\n",
        "        self.layer2 = nn.Linear(100, 10)\n",
        " \n",
        "    def forward(self, x, is_2D=True):\n",
        "        x = x.view(x.size(0), -1)  # Flatten 2D image to 1D for FC\n",
        "        x = F.relu(self.layer1(x))\n",
        "        x =        self.layer2(x)\n",
        "        return F.log_softmax(x, dim=-1)"
      ],
      "execution_count": 1,
      "outputs": [
        {
          "output_type": "stream",
          "name": "stdout",
          "text": [
            "Downloading http://yann.lecun.com/exdb/mnist/train-images-idx3-ubyte.gz\n",
            "Downloading http://yann.lecun.com/exdb/mnist/train-images-idx3-ubyte.gz to ./data/MNIST/raw/train-images-idx3-ubyte.gz\n"
          ]
        },
        {
          "output_type": "display_data",
          "data": {
            "application/vnd.jupyter.widget-view+json": {
              "model_id": "e6bf1ac898ce43519e332bf024bc9587",
              "version_minor": 0,
              "version_major": 2
            },
            "text/plain": [
              "  0%|          | 0/9912422 [00:00<?, ?it/s]"
            ]
          },
          "metadata": {}
        },
        {
          "output_type": "stream",
          "name": "stdout",
          "text": [
            "Extracting ./data/MNIST/raw/train-images-idx3-ubyte.gz to ./data/MNIST/raw\n",
            "\n",
            "Downloading http://yann.lecun.com/exdb/mnist/train-labels-idx1-ubyte.gz\n",
            "Downloading http://yann.lecun.com/exdb/mnist/train-labels-idx1-ubyte.gz to ./data/MNIST/raw/train-labels-idx1-ubyte.gz\n"
          ]
        },
        {
          "output_type": "display_data",
          "data": {
            "application/vnd.jupyter.widget-view+json": {
              "model_id": "28827627f63141d080bdf50c3e1178b0",
              "version_minor": 0,
              "version_major": 2
            },
            "text/plain": [
              "  0%|          | 0/28881 [00:00<?, ?it/s]"
            ]
          },
          "metadata": {}
        },
        {
          "output_type": "stream",
          "name": "stdout",
          "text": [
            "Extracting ./data/MNIST/raw/train-labels-idx1-ubyte.gz to ./data/MNIST/raw\n",
            "\n",
            "Downloading http://yann.lecun.com/exdb/mnist/t10k-images-idx3-ubyte.gz\n",
            "Downloading http://yann.lecun.com/exdb/mnist/t10k-images-idx3-ubyte.gz to ./data/MNIST/raw/t10k-images-idx3-ubyte.gz\n"
          ]
        },
        {
          "output_type": "display_data",
          "data": {
            "application/vnd.jupyter.widget-view+json": {
              "model_id": "71b69bf8e2524755bc83b50d66ed8121",
              "version_minor": 0,
              "version_major": 2
            },
            "text/plain": [
              "  0%|          | 0/1648877 [00:00<?, ?it/s]"
            ]
          },
          "metadata": {}
        },
        {
          "output_type": "stream",
          "name": "stdout",
          "text": [
            "Extracting ./data/MNIST/raw/t10k-images-idx3-ubyte.gz to ./data/MNIST/raw\n",
            "\n",
            "Downloading http://yann.lecun.com/exdb/mnist/t10k-labels-idx1-ubyte.gz\n",
            "Downloading http://yann.lecun.com/exdb/mnist/t10k-labels-idx1-ubyte.gz to ./data/MNIST/raw/t10k-labels-idx1-ubyte.gz\n"
          ]
        },
        {
          "output_type": "display_data",
          "data": {
            "application/vnd.jupyter.widget-view+json": {
              "model_id": "39224ff3dd7d41e8af797f70ea1bf5c4",
              "version_minor": 0,
              "version_major": 2
            },
            "text/plain": [
              "  0%|          | 0/4542 [00:00<?, ?it/s]"
            ]
          },
          "metadata": {}
        },
        {
          "output_type": "stream",
          "name": "stdout",
          "text": [
            "Extracting ./data/MNIST/raw/t10k-labels-idx1-ubyte.gz to ./data/MNIST/raw\n",
            "\n"
          ]
        },
        {
          "output_type": "stream",
          "name": "stderr",
          "text": [
            "/usr/local/lib/python3.7/dist-packages/torchvision/datasets/mnist.py:498: UserWarning: The given NumPy array is not writeable, and PyTorch does not support non-writeable tensors. This means you can write to the underlying (supposedly non-writeable) NumPy array using the tensor. You may want to copy the array to protect its data or make it writeable before converting it to a tensor. This type of warning will be suppressed for the rest of this program. (Triggered internally at  /pytorch/torch/csrc/utils/tensor_numpy.cpp:180.)\n",
            "  return torch.from_numpy(parsed.astype(m[2], copy=False)).view(*s)\n"
          ]
        }
      ]
    },
    {
      "cell_type": "markdown",
      "metadata": {
        "id": "LlyeYQtWa-_C"
      },
      "source": [
        "#Training\n"
      ]
    },
    {
      "cell_type": "code",
      "metadata": {
        "colab": {
          "base_uri": "https://localhost:8080/"
        },
        "id": "dH07nFDObBYL",
        "outputId": "b2c13bbb-1931-4d84-b2f0-3d14db6c24fb"
      },
      "source": [
        "spiking_model = SpikingNet(device, n_time_steps=128, begin_eval=0)\n",
        "train_many_epochs(spiking_model)"
      ],
      "execution_count": 2,
      "outputs": [
        {
          "output_type": "stream",
          "name": "stdout",
          "text": [
            "Train Epoch: 1 [0/60000 (0%)] Loss: 2.416613 Accuracy: 12.90%\n",
            "Train Epoch: 1 [10000/60000 (17%)] Loss: 1.903071 Accuracy: 23.70%\n",
            "Train Epoch: 1 [20000/60000 (33%)] Loss: 1.177202 Accuracy: 63.30%\n",
            "Train Epoch: 1 [30000/60000 (50%)] Loss: 0.818381 Accuracy: 71.70%\n",
            "Train Epoch: 1 [40000/60000 (67%)] Loss: 0.502673 Accuracy: 83.30%\n",
            "Train Epoch: 1 [50000/60000 (83%)] Loss: 0.444972 Accuracy: 86.20%\n"
          ]
        },
        {
          "output_type": "stream",
          "name": "stderr",
          "text": [
            "/usr/local/lib/python3.7/dist-packages/torch/nn/_reduction.py:42: UserWarning: size_average and reduce args will be deprecated, please use reduction='mean' instead.\n",
            "  warnings.warn(warning.format(ret))\n"
          ]
        },
        {
          "output_type": "stream",
          "name": "stdout",
          "text": [
            "\n",
            "Test set: Average loss: 0.0004, Accuracy: 8654/10000 (86.54%)\n",
            "\n",
            "Train Epoch: 2 [0/60000 (0%)] Loss: 0.465924 Accuracy: 85.50%\n",
            "Train Epoch: 2 [10000/60000 (17%)] Loss: 0.348846 Accuracy: 89.60%\n",
            "Train Epoch: 2 [20000/60000 (33%)] Loss: 0.350996 Accuracy: 89.20%\n",
            "Train Epoch: 2 [30000/60000 (50%)] Loss: 0.340064 Accuracy: 89.80%\n",
            "Train Epoch: 2 [40000/60000 (67%)] Loss: 0.314322 Accuracy: 90.60%\n",
            "Train Epoch: 2 [50000/60000 (83%)] Loss: 0.345949 Accuracy: 89.90%\n",
            "\n",
            "Test set: Average loss: 0.0003, Accuracy: 9028/10000 (90.28%)\n",
            "\n",
            "Train Epoch: 3 [0/60000 (0%)] Loss: 0.320288 Accuracy: 90.10%\n",
            "Train Epoch: 3 [10000/60000 (17%)] Loss: 0.354999 Accuracy: 89.80%\n",
            "Train Epoch: 3 [20000/60000 (33%)] Loss: 0.328477 Accuracy: 91.00%\n",
            "Train Epoch: 3 [30000/60000 (50%)] Loss: 0.282221 Accuracy: 92.50%\n",
            "Train Epoch: 3 [40000/60000 (67%)] Loss: 0.396323 Accuracy: 87.60%\n",
            "Train Epoch: 3 [50000/60000 (83%)] Loss: 0.338210 Accuracy: 90.80%\n",
            "\n",
            "Test set: Average loss: 0.0003, Accuracy: 9059/10000 (90.59%)\n",
            "\n"
          ]
        }
      ]
    },
    {
      "cell_type": "markdown",
      "metadata": {
        "id": "1QFzgEqhdB0y"
      },
      "source": [
        "#Neurons spiking visualization"
      ]
    },
    {
      "cell_type": "code",
      "metadata": {
        "colab": {
          "base_uri": "https://localhost:8080/",
          "height": 1000
        },
        "id": "SIfIlyardFZv",
        "outputId": "55f0146c-78ed-4fa0-fac3-f1b21314f972"
      },
      "source": [
        "data, target = test_set_loader.__iter__().__next__()\n",
        " \n",
        "# taking 1st testing example:\n",
        "x = torch.stack([data[0]])\n",
        "y = target.data.numpy()[0]\n",
        "plt.figure(figsize=(12,12))\n",
        "plt.imshow(x.data.cpu().numpy()[0,0])\n",
        "plt.title(\"Input image x of label y={}:\".format(y))\n",
        "plt.show()\n",
        " \n",
        "# plotting neuron's activations:\n",
        "spiking_model.visualize_all_neurons(x)\n",
        "print(\"A hidden neuron that looks excited:\")\n",
        "spiking_model.visualize_neuron(x, layer_idx=0, neuron_idx=0)\n",
        "print(\"The output neuron of the label:\")\n",
        "spiking_model.visualize_neuron(x, layer_idx=1, neuron_idx=y)"
      ],
      "execution_count": 3,
      "outputs": [
        {
          "output_type": "display_data",
          "data": {
            "image/png": "[encoded data removed]",
            "text/plain": [
              "<Figure size 864x864 with 1 Axes>"
            ]
          },
          "metadata": {
            "needs_background": "light"
          }
        },
        {
          "output_type": "display_data",
          "data": {
            "image/png": "[encoded data removed]",
            "text/plain": [
              "<Figure size 1152x1152 with 2 Axes>"
            ]
          },
          "metadata": {
            "needs_background": "light"
          }
        },
        {
          "output_type": "display_data",
          "data": {
            "image/png": "[encoded data removed]",
            "text/plain": [
              "<Figure size 1152x1152 with 2 Axes>"
            ]
          },
          "metadata": {
            "needs_background": "light"
          }
        },
        {
          "output_type": "display_data",
          "data": {
            "image/png": "[encoded data removed]",
            "text/plain": [
              "<Figure size 1152x1152 with 2 Axes>"
            ]
          },
          "metadata": {
            "needs_background": "light"
          }
        },
        {
          "output_type": "display_data",
          "data": {
            "image/png": "[encoded data removed]",
            "text/plain": [
              "<Figure size 1152x1152 with 2 Axes>"
            ]
          },
          "metadata": {
            "needs_background": "light"
          }
        },
        {
          "output_type": "stream",
          "name": "stdout",
          "text": [
            "A hidden neuron that looks excited:\n"
          ]
        },
        {
          "output_type": "display_data",
          "data": {
            "image/png": "[encoded data removed]",
            "text/plain": [
              "<Figure size 1152x288 with 1 Axes>"
            ]
          },
          "metadata": {
            "needs_background": "light"
          }
        },
        {
          "output_type": "display_data",
          "data": {
            "image/png": "[encoded data removed]",
            "text/plain": [
              "<Figure size 1152x288 with 1 Axes>"
            ]
          },
          "metadata": {
            "needs_background": "light"
          }
        },
        {
          "output_type": "stream",
          "name": "stdout",
          "text": [
            "The output neuron of the label:\n"
          ]
        },
        {
          "output_type": "display_data",
          "data": {
            "image/png": "[encoded data removed]",
            "text/plain": [
              "<Figure size 1152x288 with 1 Axes>"
            ]
          },
          "metadata": {
            "needs_background": "light"
          }
        },
        {
          "output_type": "display_data",
          "data": {
            "image/png": "[encoded data removed]",
            "text/plain": [
              "<Figure size 1152x288 with 1 Axes>"
            ]
          },
          "metadata": {
            "needs_background": "light"
          }
        }
      ]
    }
  ]
}